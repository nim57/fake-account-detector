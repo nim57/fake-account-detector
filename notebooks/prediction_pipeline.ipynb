{
 "cells": [
  {
   "cell_type": "code",
   "execution_count": 1,
   "id": "9618f0c7-ba7a-4ceb-bfe7-42fae85efcb8",
   "metadata": {},
   "outputs": [],
   "source": [
    "import numpy as np\n",
    "import pandas as pd\n",
    "import re\n",
    "import string\n",
    "import pickle"
   ]
  },
  {
   "cell_type": "code",
   "execution_count": 2,
   "id": "8cf1990f-efe6-4778-ad7b-177fa4af8512",
   "metadata": {},
   "outputs": [],
   "source": [
    "### data preprocessing "
   ]
  },
  {
   "cell_type": "code",
   "execution_count": 3,
   "id": "0c107b3f-74b7-4f06-8242-29613cc957bc",
   "metadata": {},
   "outputs": [],
   "source": [
    "def convert_date_to_binary(date_str):\n",
    "    # Remove both '/' and '-' characters from the date string\n",
    "    cleaned_date = date_str.replace('/', '').replace('-', '')\n",
    "    \n",
    "    # Convert each digit to its binary representation (4 digits each)\n",
    "    binary_value = ''.join(format(int(digit), '04b') for digit in cleaned_date)\n",
    "    \n",
    "    return binary_value"
   ]
  },
  {
   "cell_type": "code",
   "execution_count": 4,
   "id": "aae0bdba-e349-4fff-90f4-daa4cf4b5e7f",
   "metadata": {},
   "outputs": [],
   "source": [
    "def assign_value_based_on_type(value):\n",
    "    if value == 'Social Media Login':\n",
    "        return format(0, '04b')  # Convert 0 to a 4-bit binary string\n",
    "    elif value == 'Email':\n",
    "        return format(1, '04b')  # Convert 1 to a 4-bit binary string\n",
    "    elif value == 'Phone Number':\n",
    "        return format(2, '04b')  # Convert 3 to a 4-bit binary string\n",
    "    else:\n",
    "        return None  # Return None if the value doesn't match any known type"
   ]
  },
  {
   "cell_type": "code",
   "execution_count": 5,
   "id": "48ef7bff-10a1-485a-8878-85ad168ae6a7",
   "metadata": {},
   "outputs": [],
   "source": [
    "def number_to_fixed_length_binary(num):\n",
    "    # Convert number to string and pad with leading zeros to ensure 5-digit length\n",
    "    num_str = str(num).zfill(5)  # Ensures it has exactly 5 digits\n",
    "    \n",
    "    # Convert each digit to a 4-bit binary representation\n",
    "    binary_digits = [format(int(digit), '04b') for digit in num_str]\n",
    "    \n",
    "    return ''.join(binary_digits)  # Return as a continuous binary string"
   ]
  },
  {
   "cell_type": "code",
   "execution_count": 6,
   "id": "b80b1405-4cf8-4f2d-98b6-bfe3c9948e3d",
   "metadata": {},
   "outputs": [],
   "source": [
    "def profile_pic_conv(value):\n",
    "    if value == \"Yes\":\n",
    "        return 1\n",
    "    elif value == \"No\":\n",
    "        return 0\n",
    "    else:\n",
    "        return None  # Corrected 'none' to 'None'"
   ]
  },
  {
   "cell_type": "code",
   "execution_count": 7,
   "id": "92d893dd-8603-4171-9e6b-faae16865755",
   "metadata": {},
   "outputs": [],
   "source": [
    "def profile_info_compl(value):\n",
    "    if value == \"Yes\":\n",
    "        return 1\n",
    "    elif value == \"No\":\n",
    "        return 0\n",
    "    else:\n",
    "        return None  # Corrected 'none' to 'None'"
   ]
  },
  {
   "cell_type": "code",
   "execution_count": 8,
   "id": "a9719060-0dc2-48e6-bbc7-d350e87dad1e",
   "metadata": {},
   "outputs": [],
   "source": [
    "def Name_Consistency_con (value):\n",
    "    if value == \"Consistent\":\n",
    "        return 1\n",
    "    elif value == \"Inconsistent\":\n",
    "        return 0\n",
    "    else:\n",
    "        return None  # Corrected 'none' to 'None'"
   ]
  },
  {
   "cell_type": "code",
   "execution_count": 9,
   "id": "5e43bfa7-8bf9-4e01-9fbd-37ac684d98fb",
   "metadata": {},
   "outputs": [],
   "source": [
    "def Login_Frequency (value):\n",
    "   \n",
    "    if isinstance(value, int) and 0 <= value <= 9:\n",
    "        return format(value, '04b')  # Convert to 4-bit binary\n",
    "    else:\n",
    "        return \"Invalid input\"  # Handle incorrect values\n"
   ]
  },
  {
   "cell_type": "code",
   "execution_count": 10,
   "id": "68af1fdb-77c2-46df-8b7e-2ce9b44ad0be",
   "metadata": {},
   "outputs": [],
   "source": [
    "def Login_Time_Pattern (value):\n",
    "    if value == \"Regular\":\n",
    "        return 1\n",
    "    elif value == \"Irregular\":\n",
    "        return 0\n",
    "    else:\n",
    "        return None  # Corrected 'none' to 'None'"
   ]
  },
  {
   "cell_type": "code",
   "execution_count": 11,
   "id": "1fc5aac6-b137-40af-bc17-444c838e7b37",
   "metadata": {},
   "outputs": [],
   "source": [
    "def IP_Address_Variability(value):\n",
    "    if value == 'Low':\n",
    "        return format(0, '04b')  # Convert 0 to a 4-bit binary string\n",
    "    elif value == 'Medium':\n",
    "        return format(1, '04b')  # Convert 1 to a 4-bit binary string\n",
    "    elif value == 'High':\n",
    "        return format(2, '04b')  # Convert 3 to a 4-bit binary string\n",
    "    else:\n",
    "        return None  # Return None if the value doesn't match any known type"
   ]
  },
  {
   "cell_type": "code",
   "execution_count": 12,
   "id": "606284ef-280c-4616-9c70-1cb88f6844d8",
   "metadata": {},
   "outputs": [],
   "source": [
    "def Followers_Count(num):\n",
    "    # Convert number to string and pad with leading zeros to ensure 5-digit length\n",
    "    num_str = str(num).zfill(6)  # Ensures it has exactly 6 digits\n",
    "    \n",
    "    # Convert each digit to a 4-bit binary representation\n",
    "    binary_digits = [format(int(digit), '04b') for digit in num_str]\n",
    "    \n",
    "    return ''.join(binary_digits)  # Return as a continuous binary string"
   ]
  },
  {
   "cell_type": "code",
   "execution_count": 13,
   "id": "bb5df54f-ad70-4229-951c-1f5ef57d1d70",
   "metadata": {},
   "outputs": [],
   "source": [
    "def Following_Count(num):\n",
    "    # Convert number to string and pad with leading zeros to ensure 5-digit length\n",
    "    num_str = str(num).zfill(6)  # Ensures it has exactly 6 digits\n",
    "    \n",
    "    # Convert each digit to a 4-bit binary representation\n",
    "    binary_digits = [format(int(digit), '04b') for digit in num_str]\n",
    "    \n",
    "    return ''.join(binary_digits)  # Return as a continuous binary string"
   ]
  },
  {
   "cell_type": "code",
   "execution_count": 14,
   "id": "75d42f0a-e152-4d71-abc6-3530850e2666",
   "metadata": {},
   "outputs": [],
   "source": [
    "def Engagement_Rate(value):\n",
    "    if value == 'Low engagement (rare likes)':\n",
    "        return format(0, '04b')  # Convert 0 to a 4-bit binary string\n",
    "    elif value == 'Moderate engagement':\n",
    "        return format(1, '04b')  # Convert 1 to a 4-bit binary string\n",
    "    elif value == 'High engagement (likes/comments)':\n",
    "        return format(2, '04b')  # Convert 3 to a 4-bit binary string\n",
    "    else:\n",
    "        return None  # Return None if the value doesn't match any known type"
   ]
  },
  {
   "cell_type": "code",
   "execution_count": 15,
   "id": "a9dd4ae8-9ec0-463d-9085-bc5d0e02bf36",
   "metadata": {},
   "outputs": [],
   "source": [
    "def Post_Frequency (num):\n",
    "    # Convert number to string and pad with leading zeros to ensure 5-digit length\n",
    "    num_str = str(num).zfill(3)  # Ensures it has exactly 6 digits\n",
    "    \n",
    "    # Convert each digit to a 4-bit binary representation\n",
    "    binary_digits = [format(int(digit), '04b') for digit in num_str]\n",
    "    \n",
    "    return ''.join(binary_digits)  # Return as a continuous binary string"
   ]
  },
  {
   "cell_type": "code",
   "execution_count": 16,
   "id": "46bed04c-1db1-4b3f-a170-bd07fccd53a6",
   "metadata": {},
   "outputs": [],
   "source": [
    "def Content_Type(value):\n",
    "    if value == 'Text-only':\n",
    "        return format(0, '04b')  # Convert 0 to a 4-bit binary string\n",
    "    elif value == 'Image/Video':\n",
    "        return format(1, '04b')  # Convert 1 to a 4-bit binary string\n",
    "    elif value == 'Mixed (Image/Text)':\n",
    "        return format(2, '04b')  # Convert 3 to a 4-bit binary string\n",
    "    else:\n",
    "        return None  # Return None if the value doesn't match any known type"
   ]
  },
  {
   "cell_type": "code",
   "execution_count": 17,
   "id": "530fbfa6-a73a-4221-808a-87afa8499c01",
   "metadata": {},
   "outputs": [],
   "source": [
    "def yes_or_not_function (value):\n",
    "    if value == \"Yes\":\n",
    "        return 1\n",
    "    elif value == \"No\":\n",
    "        return 0\n",
    "    else:\n",
    "        return None  # Corrected 'none' to 'None'"
   ]
  },
  {
   "cell_type": "code",
   "execution_count": 18,
   "id": "346ae8b0-69d2-4734-a483-856519f27725",
   "metadata": {},
   "outputs": [],
   "source": [
    "def Geolocation_Consistency (value):\n",
    "    if value == \"Consistent\":\n",
    "        return 1\n",
    "    elif value == \"Inconsistent\":\n",
    "        return 0\n",
    "    else:\n",
    "        return None  # Corrected 'none' to 'None'"
   ]
  },
  {
   "cell_type": "code",
   "execution_count": 19,
   "id": "11a67eb9-5bde-495f-9352-9ec5e64d81d0",
   "metadata": {},
   "outputs": [],
   "source": [
    "def Final_Result (value):\n",
    "    if value == \"Genuine\":\n",
    "        return 1\n",
    "    elif value == \"Fake\":\n",
    "        return 0\n",
    "    else:\n",
    "        return None  # Corrected 'none' to 'None'"
   ]
  },
  {
   "cell_type": "code",
   "execution_count": 20,
   "id": "8730bb7c-58e1-4b1b-ac7c-ec6618018281",
   "metadata": {},
   "outputs": [],
   "source": [
    "def valid_or_not_function (value):\n",
    "    if value == \"Valid\":\n",
    "        return 1\n",
    "    elif value == \"Invalid\":\n",
    "        return 0\n",
    "    else:\n",
    "        return None  # Corrected 'none' to 'None'"
   ]
  },
  {
   "cell_type": "code",
   "execution_count": 21,
   "id": "adbaccaa-1ebe-4952-81ef-ef82cfb3e38a",
   "metadata": {},
   "outputs": [],
   "source": [
    "def Suspicious_Device_Use (value):\n",
    "    if value == \"Yes\":\n",
    "        return 1\n",
    "    elif value == \"No\":\n",
    "        return 0\n",
    "    else:\n",
    "        return 1  # Corrected 'none' to 'None'"
   ]
  },
  {
   "cell_type": "code",
   "execution_count": 22,
   "id": "dfeff52b-7eb9-4e6d-875f-e4ad4b1c46c3",
   "metadata": {},
   "outputs": [],
   "source": [
    "with open('../static/model/model123.pickle', 'rb') as f:\n",
    "   model = pickle.load(f)"
   ]
  },
  {
   "cell_type": "code",
   "execution_count": 23,
   "id": "6549b377-0950-4e53-8ff2-2ece09257107",
   "metadata": {},
   "outputs": [],
   "source": [
    "import pandas as pd\n",
    "import numpy as np\n",
    "\n",
    "def create_sample_dataset():\n",
    "    sample_data = {\n",
    "        \"Account Creation Date\": [\"2/01/2025\"],\n",
    "        \"Account Creation Method\": [\"Social Media Login\"],\n",
    "        \"Account Age (Days)\": [5],\n",
    "        \"Profile Picture\": [\"No\"],\n",
    "        \"Profile Information Complete\": [\"No\"],\n",
    "        \"Name Consistency\": [\"Inconsistent\"],\n",
    "        \"Login Frequency (per week)\": [3],  # Unusually high\n",
    "        \"Login Time Pattern\": [\"Irregular\"],\n",
    "        \"IP Address Variability\": [\"High\"],  # Logs in from multiple locations\n",
    "        \"Followers Count\": [50],  # Very low follower count\n",
    "        \"Following Count\": [5000],  # Follows many accounts\n",
    "        \"Engagement Rate (likes/comments)\": [\"Low engagement (rare likes)\"],\n",
    "        \"Post Frequency (per week)\": [0],  # No posts\n",
    "        \"Content Type\": [\"Text-only\"],\n",
    "        \"Email Validation\": [\"Invalid\"],\n",
    "        \"Phone Number Validation\": [\"Invalid\"],\n",
    "        \"Reported by Users\": [\"Yes\"],\n",
    "        \"Flags by Content Moderation\": [\"Yes\"],\n",
    "        \"Geolocation Consistency\": [\"Inconsistent\"],\n",
    "        \"Suspicious Device Use\": [\"Yes\"],\n",
    "    }\n",
    "    return pd.DataFrame(sample_data)\n",
    "\n",
    "def preprocess_data(data):\n",
    "    data[\"Account Creation Date\"] = data[\"Account Creation Date\"].apply(convert_date_to_binary)\n",
    "    data[\"Account Creation Method\"] = data[\"Account Creation Method\"].apply(assign_value_based_on_type)\n",
    "    data[\"Account Age (Days)\"] = data[\"Account Age (Days)\"].apply(number_to_fixed_length_binary)\n",
    "    data[\"Profile Picture\"] = data[\"Profile Picture\"].apply(profile_pic_conv)\n",
    "    data[\"Profile Information Complete\"] = data[\"Profile Information Complete\"].apply(profile_pic_conv)\n",
    "    data[\"Name Consistency\"] = data[\"Name Consistency\"].apply(Name_Consistency_con)\n",
    "    data[\"Login Frequency (per week)\"] = data[\"Login Frequency (per week)\"].apply(Login_Frequency)\n",
    "    data[\"Login Time Pattern\"] = data[\"Login Time Pattern\"].apply(Login_Time_Pattern)\n",
    "    data[\"IP Address Variability\"] = data[\"IP Address Variability\"].apply(IP_Address_Variability)\n",
    "    data[\"Followers Count\"] = data[\"Followers Count\"].apply(Followers_Count)\n",
    "    data[\"Following Count\"] = data[\"Following Count\"].apply(Following_Count)\n",
    "    data[\"Engagement Rate (likes/comments)\"] = data[\"Engagement Rate (likes/comments)\"].apply(Engagement_Rate)\n",
    "    data[\"Post Frequency (per week)\"] = data[\"Post Frequency (per week)\"].apply(Post_Frequency)\n",
    "    data[\"Content Type\"] = data[\"Content Type\"].apply(Content_Type)\n",
    "    data[\"Email Validation\"] = data[\"Email Validation\"].apply(valid_or_not_function)\n",
    "    data[\"Phone Number Validation\"] = data[\"Phone Number Validation\"].apply(valid_or_not_function)\n",
    "    data[\"Reported by Users\"] = data[\"Reported by Users\"].apply(yes_or_not_function)\n",
    "    data[\"Flags by Content Moderation\"] = data[\"Flags by Content Moderation\"].apply(yes_or_not_function)\n",
    "    data[\"Suspicious Device Use\"] = data[\"Suspicious Device Use\"].apply(yes_or_not_function)\n",
    "    data[\"Geolocation Consistency\"] = data[\"Geolocation Consistency\"].apply(Geolocation_Consistency)\n",
    "    data[\"Suspicious Device Use\"] = data[\"Suspicious Device Use\"].apply(Suspicious_Device_Use)\n",
    "    return data\n",
    "\n",
    "# Example usage:\n",
    "sample_data = create_sample_dataset()\n",
    "processed_data = preprocess_data(sample_data)\n"
   ]
  },
  {
   "cell_type": "code",
   "execution_count": 24,
   "id": "c4650142-b80a-4e0b-98ec-dcf487d24686",
   "metadata": {},
   "outputs": [
    {
     "data": {
      "text/html": [
       "<div>\n",
       "<style scoped>\n",
       "    .dataframe tbody tr th:only-of-type {\n",
       "        vertical-align: middle;\n",
       "    }\n",
       "\n",
       "    .dataframe tbody tr th {\n",
       "        vertical-align: top;\n",
       "    }\n",
       "\n",
       "    .dataframe thead th {\n",
       "        text-align: right;\n",
       "    }\n",
       "</style>\n",
       "<table border=\"1\" class=\"dataframe\">\n",
       "  <thead>\n",
       "    <tr style=\"text-align: right;\">\n",
       "      <th></th>\n",
       "      <th>Account Creation Date</th>\n",
       "      <th>Account Creation Method</th>\n",
       "      <th>Account Age (Days)</th>\n",
       "      <th>Profile Picture</th>\n",
       "      <th>Profile Information Complete</th>\n",
       "      <th>Name Consistency</th>\n",
       "      <th>Login Frequency (per week)</th>\n",
       "      <th>Login Time Pattern</th>\n",
       "      <th>IP Address Variability</th>\n",
       "      <th>Followers Count</th>\n",
       "      <th>Following Count</th>\n",
       "      <th>Engagement Rate (likes/comments)</th>\n",
       "      <th>Post Frequency (per week)</th>\n",
       "      <th>Content Type</th>\n",
       "      <th>Email Validation</th>\n",
       "      <th>Phone Number Validation</th>\n",
       "      <th>Reported by Users</th>\n",
       "      <th>Flags by Content Moderation</th>\n",
       "      <th>Geolocation Consistency</th>\n",
       "      <th>Suspicious Device Use</th>\n",
       "    </tr>\n",
       "  </thead>\n",
       "  <tbody>\n",
       "    <tr>\n",
       "      <th>0</th>\n",
       "      <td>0010000000010010000000100101</td>\n",
       "      <td>0000</td>\n",
       "      <td>00000000000000000101</td>\n",
       "      <td>0</td>\n",
       "      <td>0</td>\n",
       "      <td>0</td>\n",
       "      <td>0011</td>\n",
       "      <td>0</td>\n",
       "      <td>0010</td>\n",
       "      <td>000000000000000001010000</td>\n",
       "      <td>000000000101000000000000</td>\n",
       "      <td>0000</td>\n",
       "      <td>000000000000</td>\n",
       "      <td>0000</td>\n",
       "      <td>0</td>\n",
       "      <td>0</td>\n",
       "      <td>1</td>\n",
       "      <td>1</td>\n",
       "      <td>0</td>\n",
       "      <td>1</td>\n",
       "    </tr>\n",
       "  </tbody>\n",
       "</table>\n",
       "</div>"
      ],
      "text/plain": [
       "          Account Creation Date Account Creation Method    Account Age (Days)  \\\n",
       "0  0010000000010010000000100101                    0000  00000000000000000101   \n",
       "\n",
       "   Profile Picture  Profile Information Complete  Name Consistency  \\\n",
       "0                0                             0                 0   \n",
       "\n",
       "  Login Frequency (per week)  Login Time Pattern IP Address Variability  \\\n",
       "0                       0011                   0                   0010   \n",
       "\n",
       "            Followers Count           Following Count  \\\n",
       "0  000000000000000001010000  000000000101000000000000   \n",
       "\n",
       "  Engagement Rate (likes/comments) Post Frequency (per week) Content Type  \\\n",
       "0                             0000              000000000000         0000   \n",
       "\n",
       "   Email Validation  Phone Number Validation  Reported by Users  \\\n",
       "0                 0                        0                  1   \n",
       "\n",
       "   Flags by Content Moderation  Geolocation Consistency  Suspicious Device Use  \n",
       "0                            1                        0                      1  "
      ]
     },
     "execution_count": 24,
     "metadata": {},
     "output_type": "execute_result"
    }
   ],
   "source": [
    "processed_data"
   ]
  },
  {
   "cell_type": "code",
   "execution_count": 25,
   "id": "919688b6-cf32-4405-b33f-54c82930b175",
   "metadata": {},
   "outputs": [],
   "source": [
    "def get_prediction(processed_data):\n",
    "    prediction = model.predict(processed_data)\n",
    "    if prediction == 1:\n",
    "        return 'Genuine'\n",
    "    else:\n",
    "        return 'Fake'\n",
    "        "
   ]
  },
  {
   "cell_type": "code",
   "execution_count": 26,
   "id": "18db616f-cc53-4788-930a-dfc63da087f3",
   "metadata": {
    "scrolled": true
   },
   "outputs": [
    {
     "name": "stderr",
     "output_type": "stream",
     "text": [
      "D:\\final_project Echo\\Ai_model\\New_project\\fake-account-detector\\fake-account-detector-\\env\\Lib\\site-packages\\sklearn\\utils\\validation.py:2732: UserWarning: X has feature names, but LogisticRegression was fitted without feature names\n",
      "  warnings.warn(\n"
     ]
    },
    {
     "data": {
      "text/plain": [
       "'Genuine'"
      ]
     },
     "execution_count": 26,
     "metadata": {},
     "output_type": "execute_result"
    }
   ],
   "source": [
    "prediction = get_prediction(processed_data)\n",
    "prediction"
   ]
  },
  {
   "cell_type": "code",
   "execution_count": null,
   "id": "92caf479-1aef-445d-b4c6-be91f596ec32",
   "metadata": {},
   "outputs": [],
   "source": []
  }
 ],
 "metadata": {
  "kernelspec": {
   "display_name": "Python 3 (ipykernel)",
   "language": "python",
   "name": "python3"
  },
  "language_info": {
   "codemirror_mode": {
    "name": "ipython",
    "version": 3
   },
   "file_extension": ".py",
   "mimetype": "text/x-python",
   "name": "python",
   "nbconvert_exporter": "python",
   "pygments_lexer": "ipython3",
   "version": "3.13.1"
  }
 },
 "nbformat": 4,
 "nbformat_minor": 5
}
